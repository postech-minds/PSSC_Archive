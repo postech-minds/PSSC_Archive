{
 "cells": [
  {
   "cell_type": "code",
   "execution_count": null,
   "metadata": {},
   "outputs": [],
   "source": [
    "## Bandit A\n",
    "'''\n",
    "첫번째 벤딧은 벤딧의 개수가 비교적 많은 경우 입니다..\n",
    "'''\n",
    "\n",
    "n_bandits = # 비밀\n",
    "p_bandits = # 비밀\n",
    "times = 2500        # Bandit A를 분석하기 위해 주어진 자원은 2500번 입니다.\n",
    "\n",
    "def pull(i):\n",
    "    if np.random.rand() < p_bandits[i]:\n",
    "        return 1\n",
    "    else:\n",
    "        return 0"
   ]
  },
  {
   "cell_type": "code",
   "execution_count": null,
   "metadata": {},
   "outputs": [],
   "source": [
    "## Bandit B\n",
    "'''\n",
    "두번째 벤딧은 리워드가 서로 다른 암으로 구성된 벤딧입니다.\n",
    "특히 아주 낮은 확률로 엄청 큰 리워드를 얻거나, 엄청 작은 리워드를 얻는 벤딧이 포함되어 있습니다.\n",
    "학생들이 확률뿐만 아니라, 리워드까지 고려하여 베타분포를 업데이트 해야함을 발견하는 것이 목표입니다.\n",
    "'''\n",
    "\n",
    "n_bandits = # 비밀\n",
    "p_bandits = # 비밀\n",
    "reward_bandits = # 비밀\n",
    "\n",
    "\n",
    "times = 5000        # Bandit B를 분석하기 위해 주어진 자원은 5000번 입니다.\n",
    "\n",
    "def pull(i):\n",
    "    if np.random.rand() < p_bandits[i]:\n",
    "        return 1\n",
    "    else:\n",
    "        return 0"
   ]
  },
  {
   "cell_type": "code",
   "execution_count": null,
   "metadata": {},
   "outputs": [],
   "source": [
    "# Bandit C\n",
    "'''\n",
    "세 번째 Bandit은 가장 어려운 벤딧 입니다. \n",
    "일단 일반적인 MAB 알고리즘을 수행하여 어떤 일이 일어난 것일지 그 결과를 관찰해 보세요.\n",
    "'''\n",
    "\n",
    "n_bandits = 3   \n",
    "p_bandits = # 비밀\n",
    "num_of_success = [0,0,0]\n",
    "times = 10000  # Bandit C를 분석하기 위해 주어진 자원은 10000번 입니다.\n",
    "\n",
    "\n",
    "def pull(i):\n",
    "\n",
    "    ...\n",
    "    return 1\n",
    "    \n",
    "    ...\n",
    "    return 0"
   ]
  }
 ],
 "metadata": {
  "kernelspec": {
   "display_name": "Python 3.9.10 64-bit",
   "language": "python",
   "name": "python3"
  },
  "language_info": {
   "name": "python",
   "version": "3.9.10"
  },
  "orig_nbformat": 4,
  "vscode": {
   "interpreter": {
    "hash": "b0fa6594d8f4cbf19f97940f81e996739fb7646882a419484c72d19e05852a7e"
   }
  }
 },
 "nbformat": 4,
 "nbformat_minor": 2
}
